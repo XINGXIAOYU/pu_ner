{
 "cells": [
  {
   "cell_type": "code",
   "execution_count": 3,
   "metadata": {},
   "outputs": [],
   "source": [
    "d1 = set()\n",
    "d2 = set()\n",
    "d3 = set()\n",
    "d4 = set()\n",
    "with open(\"dictionary/person.dict\",\"r\") as fw:\n",
    "    for line in fw:\n",
    "        line = line.strip()\n",
    "        d1.add(line)\n",
    "with open(\"dictionary/location.dict\",\"r\") as fw:\n",
    "    for line in fw:\n",
    "        line = line.strip()\n",
    "        d2.add(line)\n",
    "with open(\"dictionary/org.dict\",\"r\") as fw:\n",
    "    for line in fw:\n",
    "        line = line.strip()\n",
    "        d3.add(line)\n",
    "with open(\"dictionary/misc.dict\",\"r\") as fw:\n",
    "    for line in fw:\n",
    "        line = line.strip()\n",
    "        d4.add(line)\n",
    "        \n",
    "person_dict = d1-d2-d3-d4\n",
    "location_dict = d2-d1-d3-d4\n",
    "org_dict = d3-d1-d2-d4\n",
    "misc_dict = d4-d1-d2-d3"
   ]
  },
  {
   "cell_type": "code",
   "execution_count": 4,
   "metadata": {},
   "outputs": [
    {
     "name": "stdout",
     "output_type": "stream",
     "text": [
      "1973\n"
     ]
    }
   ],
   "source": [
    "print(len(person_dict))"
   ]
  },
  {
   "cell_type": "code",
   "execution_count": null,
   "metadata": {},
   "outputs": [],
   "source": [
    "with open(\"dictionary/person.txt\",\"w\") as fw:\n",
    "    for name in person_dict:\n",
    "        fw.write(name+\"\\n\")\n",
    "with open(\"dictionary/location.txt\",\"w\") as fw:\n",
    "    for name in location_dict:\n",
    "        fw.write(name+\"\\n\")\n",
    "with open(\"dictionary/organization.txt\",\"w\") as fw:\n",
    "    for name in org_dict:\n",
    "        fw.write(name+\"\\n\")\n",
    "with open(\"dictionary/misc.txt\",\"w\") as fw:\n",
    "    for name in misc_dict:\n",
    "        fw.write(name+\"\\n\")"
   ]
  }
 ],
 "metadata": {
  "kernelspec": {
   "display_name": "Python 3",
   "language": "python",
   "name": "python3"
  },
  "language_info": {
   "codemirror_mode": {
    "name": "ipython",
    "version": 3
   },
   "file_extension": ".py",
   "mimetype": "text/x-python",
   "name": "python",
   "nbconvert_exporter": "python",
   "pygments_lexer": "ipython3",
   "version": "3.6.4"
  }
 },
 "nbformat": 4,
 "nbformat_minor": 2
}
